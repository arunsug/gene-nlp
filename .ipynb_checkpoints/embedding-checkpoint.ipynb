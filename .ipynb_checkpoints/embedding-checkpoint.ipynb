{
 "cells": [
  {
   "cell_type": "code",
   "execution_count": 6,
   "metadata": {},
   "outputs": [],
   "source": [
    "import pandas as pd\n",
    "import numpy as np\n",
    "import matplotlib.pyplot as plt\n",
    "from nltk.corpus import stopwords\n",
    "from keras.models import Model, Sequential\n",
    "from keras.layers import Dense, Dropout, Flatten, Conv1D, MaxPooling1D, Embedding, LeakyReLU, Input\n",
    "from keras.optimizers import Nadam ,RMSprop\n",
    "from keras.preprocessing import text, sequence\n",
    "from sklearn.utils import shuffle\n",
    "import keras\n",
    "import gensim "
   ]
  },
  {
   "cell_type": "code",
   "execution_count": 2,
   "metadata": {
    "scrolled": true
   },
   "outputs": [
    {
     "name": "stderr",
     "output_type": "stream",
     "text": [
      "/home/arun/Programs/anaconda3/lib/python3.6/site-packages/ipykernel_launcher.py:2: ParserWarning: Falling back to the 'python' engine because the 'c' engine does not support regex separators (separators > 1 char and different from '\\s+' are interpreted as regex); you can avoid this warning by specifying engine='python'.\n",
      "  \n",
      "/home/arun/Programs/anaconda3/lib/python3.6/site-packages/ipykernel_launcher.py:6: ParserWarning: Falling back to the 'python' engine because the 'c' engine does not support regex separators (separators > 1 char and different from '\\s+' are interpreted as regex); you can avoid this warning by specifying engine='python'.\n",
      "  \n"
     ]
    }
   ],
   "source": [
    "trainvar = pd.read_csv('training_variants')\n",
    "traintex = pd.read_csv('training_text', sep='\\|\\|', header=None, names=['ID','Text'], skiprows=[0])\n",
    "train = pd.merge(trainvar, traintex, on='ID')\n",
    "\n",
    "trainvar = pd.read_csv('test_variants')\n",
    "traintex = pd.read_csv('test_text', sep='\\|\\|', header=None, names=['ID','Text'], skiprows=[0])\n",
    "test = pd.merge(trainvar, traintex, on='ID')"
   ]
  },
  {
   "cell_type": "code",
   "execution_count": 4,
   "metadata": {
    "collapsed": true
   },
   "outputs": [],
   "source": [
    "train.Text = train.Text.str.lower()\n",
    "test.Text = test.Text.str.lower()\n",
    "train.Text = train.Gene +' '+ train.Variation +' '+ train.Text\n",
    "test.Text = test.Gene + test.Variation + test.Text\n",
    "l = stopwords.words('english').append(['well','determine'])\n",
    "for words in stopwords.words('english'):\n",
    "    test.Text = test.Text.str.replace(' '+words+' ', '')\n",
    "    train.Text = train.Text.str.replace(' '+words+' ', '')"
   ]
  },
  {
   "cell_type": "code",
   "execution_count": 5,
   "metadata": {
    "collapsed": true
   },
   "outputs": [],
   "source": [
    "maxlength=10000\n",
    "y = keras.utils.to_categorical(train['Class']-1, num_classes=9)\n",
    "tok = text.Tokenizer()\n",
    "tok.fit_on_texts(train['Text'])\n",
    "X = tok.texts_to_sequences(train['Text'])\n",
    "X = sequence.pad_sequences(X ,maxlen=maxlength)"
   ]
  },
  {
   "cell_type": "code",
   "execution_count": 8,
   "metadata": {},
   "outputs": [
    {
     "name": "stdout",
     "output_type": "stream",
     "text": [
      "_________________________________________________________________\n",
      "Layer (type)                 Output Shape              Param #   \n",
      "=================================================================\n",
      "embedding_2 (Embedding)      (None, 10000, 15)         17657145  \n",
      "_________________________________________________________________\n",
      "conv1d_2 (Conv1D)            (None, 9991, 128)         19328     \n",
      "_________________________________________________________________\n",
      "max_pooling1d_1 (MaxPooling1 (None, 4995, 128)         0         \n",
      "_________________________________________________________________\n",
      "dropout_1 (Dropout)          (None, 4995, 128)         0         \n",
      "_________________________________________________________________\n",
      "conv1d_3 (Conv1D)            (None, 4986, 128)         163968    \n",
      "_________________________________________________________________\n",
      "max_pooling1d_2 (MaxPooling1 (None, 2493, 128)         0         \n",
      "_________________________________________________________________\n",
      "flatten_1 (Flatten)          (None, 319104)            0         \n",
      "_________________________________________________________________\n",
      "dense_1 (Dense)              (None, 128)               40845440  \n",
      "_________________________________________________________________\n",
      "dropout_2 (Dropout)          (None, 128)               0         \n",
      "_________________________________________________________________\n",
      "dense_2 (Dense)              (None, 9)                 1161      \n",
      "=================================================================\n",
      "Total params: 58,687,042\n",
      "Trainable params: 58,687,042\n",
      "Non-trainable params: 0\n",
      "_________________________________________________________________\n"
     ]
    }
   ],
   "source": [
    "# input1 = Input(shape=(maxlength,))\n",
    "# x = Embedding(max(tok.word_index.values())+1, 15, input_length=maxlength)(input1)\n",
    "# x = Conv1D(128,10, activation='relu')(x)\n",
    "# #x = LeakyReLU(0.1)(x)\n",
    "# x = MaxPooling1D()(x)\n",
    "# # x = Dropout(0.2)(x)\n",
    "# # x = Conv1D(128,10, activation='relu')(x)\n",
    "# # #x = LeakyReLU(0.1)(x)\n",
    "# # x = MaxPooling1D()(x)\n",
    "# x = Flatten()(x)\n",
    "# x = Dense(128, activation='relu')(x)\n",
    "# x = LeakyReLU(0.1)(x) \n",
    "# output = Dense(units=9, activation='softmax')(x)\n",
    "# model = Model(inputs=input1, outputs=output)\n",
    "\n",
    "model = Sequential()\n",
    "model.add(Embedding(max(tok.word_index.values())+1, 15, input_length=maxlength))\n",
    "model.add(Conv1D(128,10,activation='relu'))\n",
    "model.add(MaxPooling1D())\n",
    "model.add(Dropout(0.2))\n",
    "model.add(Conv1D(128,10,activation='relu'))\n",
    "model.add(MaxPooling1D())\n",
    "model.add(Flatten())\n",
    "model.add(Dense(128,activation='relu'))\n",
    "model.add(Dropout(0.2))\n",
    "model.add(Dense(units=9,activation='softmax'))\n",
    "model.summary()"
   ]
  },
  {
   "cell_type": "code",
   "execution_count": 9,
   "metadata": {},
   "outputs": [],
   "source": [
    "model.compile(loss='categorical_crossentropy',\n",
    "              optimizer=Nadam(),\n",
    "              metrics=['accuracy'])"
   ]
  },
  {
   "cell_type": "code",
   "execution_count": 15,
   "metadata": {},
   "outputs": [
    {
     "name": "stdout",
     "output_type": "stream",
     "text": [
      "Train on 2988 samples, validate on 333 samples\n",
      "Epoch 1/1\n",
      "2988/2988 [==============================] - 279s - loss: 0.4064 - acc: 0.8420 - val_loss: 1.7337 - val_acc: 0.4685\n"
     ]
    },
    {
     "data": {
      "text/plain": [
       "<keras.callbacks.History at 0x7f19ffbb02e8>"
      ]
     },
     "execution_count": 15,
     "metadata": {},
     "output_type": "execute_result"
    }
   ],
   "source": [
    "model.fit(X, y, batch_size=128, epochs=1, verbose=1, validation_split=0.1)"
   ]
  },
  {
   "cell_type": "code",
   "execution_count": 16,
   "metadata": {
    "collapsed": true
   },
   "outputs": [],
   "source": [
    "x = tok.texts_to_sequences(test['Text'])"
   ]
  },
  {
   "cell_type": "code",
   "execution_count": 17,
   "metadata": {},
   "outputs": [
    {
     "name": "stdout",
     "output_type": "stream",
     "text": [
      "5668/5668 [==============================] - 153s   \n"
     ]
    }
   ],
   "source": [
    "classes = model.predict(sequence.pad_sequences(x,maxlen=maxlength), batch_size=32, verbose=1)"
   ]
  },
  {
   "cell_type": "code",
   "execution_count": 18,
   "metadata": {},
   "outputs": [
    {
     "data": {
      "text/html": [
       "<div>\n",
       "<style>\n",
       "    .dataframe thead tr:only-child th {\n",
       "        text-align: right;\n",
       "    }\n",
       "\n",
       "    .dataframe thead th {\n",
       "        text-align: left;\n",
       "    }\n",
       "\n",
       "    .dataframe tbody tr th {\n",
       "        vertical-align: top;\n",
       "    }\n",
       "</style>\n",
       "<table border=\"1\" class=\"dataframe\">\n",
       "  <thead>\n",
       "    <tr style=\"text-align: right;\">\n",
       "      <th></th>\n",
       "      <th>ID</th>\n",
       "      <th>class1</th>\n",
       "      <th>class2</th>\n",
       "      <th>class3</th>\n",
       "      <th>class4</th>\n",
       "      <th>class5</th>\n",
       "      <th>class6</th>\n",
       "      <th>class7</th>\n",
       "      <th>class8</th>\n",
       "      <th>class9</th>\n",
       "    </tr>\n",
       "  </thead>\n",
       "  <tbody>\n",
       "    <tr>\n",
       "      <th>0</th>\n",
       "      <td>0</td>\n",
       "      <td>0.005125</td>\n",
       "      <td>0.506954</td>\n",
       "      <td>0.007810</td>\n",
       "      <td>0.032454</td>\n",
       "      <td>0.001196</td>\n",
       "      <td>7.736393e-05</td>\n",
       "      <td>0.446325</td>\n",
       "      <td>3.670263e-05</td>\n",
       "      <td>2.170306e-05</td>\n",
       "    </tr>\n",
       "    <tr>\n",
       "      <th>1</th>\n",
       "      <td>1</td>\n",
       "      <td>0.148411</td>\n",
       "      <td>0.282092</td>\n",
       "      <td>0.052246</td>\n",
       "      <td>0.321742</td>\n",
       "      <td>0.023468</td>\n",
       "      <td>3.429621e-02</td>\n",
       "      <td>0.119863</td>\n",
       "      <td>9.467940e-03</td>\n",
       "      <td>8.413129e-03</td>\n",
       "    </tr>\n",
       "    <tr>\n",
       "      <th>2</th>\n",
       "      <td>2</td>\n",
       "      <td>0.080366</td>\n",
       "      <td>0.028229</td>\n",
       "      <td>0.002516</td>\n",
       "      <td>0.691431</td>\n",
       "      <td>0.000087</td>\n",
       "      <td>9.213973e-05</td>\n",
       "      <td>0.197060</td>\n",
       "      <td>2.010060e-04</td>\n",
       "      <td>1.824740e-05</td>\n",
       "    </tr>\n",
       "    <tr>\n",
       "      <th>3</th>\n",
       "      <td>3</td>\n",
       "      <td>0.021330</td>\n",
       "      <td>0.081159</td>\n",
       "      <td>0.019929</td>\n",
       "      <td>0.127049</td>\n",
       "      <td>0.006907</td>\n",
       "      <td>6.679071e-04</td>\n",
       "      <td>0.741636</td>\n",
       "      <td>8.015439e-04</td>\n",
       "      <td>5.205296e-04</td>\n",
       "    </tr>\n",
       "    <tr>\n",
       "      <th>4</th>\n",
       "      <td>4</td>\n",
       "      <td>0.078236</td>\n",
       "      <td>0.049611</td>\n",
       "      <td>0.007443</td>\n",
       "      <td>0.252035</td>\n",
       "      <td>0.003064</td>\n",
       "      <td>2.480609e-03</td>\n",
       "      <td>0.605184</td>\n",
       "      <td>1.399651e-03</td>\n",
       "      <td>5.463482e-04</td>\n",
       "    </tr>\n",
       "    <tr>\n",
       "      <th>5</th>\n",
       "      <td>5</td>\n",
       "      <td>0.009536</td>\n",
       "      <td>0.008145</td>\n",
       "      <td>0.010835</td>\n",
       "      <td>0.903149</td>\n",
       "      <td>0.000888</td>\n",
       "      <td>3.280174e-03</td>\n",
       "      <td>0.062926</td>\n",
       "      <td>8.141967e-04</td>\n",
       "      <td>4.282194e-04</td>\n",
       "    </tr>\n",
       "    <tr>\n",
       "      <th>6</th>\n",
       "      <td>6</td>\n",
       "      <td>0.015741</td>\n",
       "      <td>0.197533</td>\n",
       "      <td>0.085096</td>\n",
       "      <td>0.253947</td>\n",
       "      <td>0.022278</td>\n",
       "      <td>4.557580e-02</td>\n",
       "      <td>0.325809</td>\n",
       "      <td>1.481733e-02</td>\n",
       "      <td>3.920225e-02</td>\n",
       "    </tr>\n",
       "    <tr>\n",
       "      <th>7</th>\n",
       "      <td>7</td>\n",
       "      <td>0.014968</td>\n",
       "      <td>0.263662</td>\n",
       "      <td>0.020346</td>\n",
       "      <td>0.129909</td>\n",
       "      <td>0.002193</td>\n",
       "      <td>3.670495e-03</td>\n",
       "      <td>0.557053</td>\n",
       "      <td>3.360786e-03</td>\n",
       "      <td>4.838307e-03</td>\n",
       "    </tr>\n",
       "    <tr>\n",
       "      <th>8</th>\n",
       "      <td>8</td>\n",
       "      <td>0.039347</td>\n",
       "      <td>0.399311</td>\n",
       "      <td>0.035443</td>\n",
       "      <td>0.126382</td>\n",
       "      <td>0.016309</td>\n",
       "      <td>1.031301e-01</td>\n",
       "      <td>0.237415</td>\n",
       "      <td>1.014708e-02</td>\n",
       "      <td>3.251526e-02</td>\n",
       "    </tr>\n",
       "    <tr>\n",
       "      <th>9</th>\n",
       "      <td>9</td>\n",
       "      <td>0.000001</td>\n",
       "      <td>0.009088</td>\n",
       "      <td>0.000017</td>\n",
       "      <td>0.000411</td>\n",
       "      <td>0.000002</td>\n",
       "      <td>3.664846e-08</td>\n",
       "      <td>0.990481</td>\n",
       "      <td>5.659768e-09</td>\n",
       "      <td>1.695536e-07</td>\n",
       "    </tr>\n",
       "    <tr>\n",
       "      <th>10</th>\n",
       "      <td>10</td>\n",
       "      <td>0.028370</td>\n",
       "      <td>0.220835</td>\n",
       "      <td>0.006857</td>\n",
       "      <td>0.177434</td>\n",
       "      <td>0.000322</td>\n",
       "      <td>1.546201e-05</td>\n",
       "      <td>0.566139</td>\n",
       "      <td>2.352693e-05</td>\n",
       "      <td>3.848358e-06</td>\n",
       "    </tr>\n",
       "    <tr>\n",
       "      <th>11</th>\n",
       "      <td>11</td>\n",
       "      <td>0.000148</td>\n",
       "      <td>0.089190</td>\n",
       "      <td>0.000589</td>\n",
       "      <td>0.004239</td>\n",
       "      <td>0.000129</td>\n",
       "      <td>2.061799e-05</td>\n",
       "      <td>0.905665</td>\n",
       "      <td>2.686630e-06</td>\n",
       "      <td>1.619567e-05</td>\n",
       "    </tr>\n",
       "    <tr>\n",
       "      <th>12</th>\n",
       "      <td>12</td>\n",
       "      <td>0.268999</td>\n",
       "      <td>0.014835</td>\n",
       "      <td>0.002298</td>\n",
       "      <td>0.014469</td>\n",
       "      <td>0.158554</td>\n",
       "      <td>5.278555e-01</td>\n",
       "      <td>0.005230</td>\n",
       "      <td>3.568982e-03</td>\n",
       "      <td>4.190431e-03</td>\n",
       "    </tr>\n",
       "    <tr>\n",
       "      <th>13</th>\n",
       "      <td>13</td>\n",
       "      <td>0.347422</td>\n",
       "      <td>0.031384</td>\n",
       "      <td>0.045649</td>\n",
       "      <td>0.477007</td>\n",
       "      <td>0.007671</td>\n",
       "      <td>3.922669e-04</td>\n",
       "      <td>0.089001</td>\n",
       "      <td>1.401423e-03</td>\n",
       "      <td>7.326111e-05</td>\n",
       "    </tr>\n",
       "    <tr>\n",
       "      <th>14</th>\n",
       "      <td>14</td>\n",
       "      <td>0.012999</td>\n",
       "      <td>0.163939</td>\n",
       "      <td>0.004606</td>\n",
       "      <td>0.024739</td>\n",
       "      <td>0.001437</td>\n",
       "      <td>2.470065e-04</td>\n",
       "      <td>0.791834</td>\n",
       "      <td>9.863949e-05</td>\n",
       "      <td>1.005825e-04</td>\n",
       "    </tr>\n",
       "  </tbody>\n",
       "</table>\n",
       "</div>"
      ],
      "text/plain": [
       "    ID    class1    class2    class3    class4    class5        class6  \\\n",
       "0    0  0.005125  0.506954  0.007810  0.032454  0.001196  7.736393e-05   \n",
       "1    1  0.148411  0.282092  0.052246  0.321742  0.023468  3.429621e-02   \n",
       "2    2  0.080366  0.028229  0.002516  0.691431  0.000087  9.213973e-05   \n",
       "3    3  0.021330  0.081159  0.019929  0.127049  0.006907  6.679071e-04   \n",
       "4    4  0.078236  0.049611  0.007443  0.252035  0.003064  2.480609e-03   \n",
       "5    5  0.009536  0.008145  0.010835  0.903149  0.000888  3.280174e-03   \n",
       "6    6  0.015741  0.197533  0.085096  0.253947  0.022278  4.557580e-02   \n",
       "7    7  0.014968  0.263662  0.020346  0.129909  0.002193  3.670495e-03   \n",
       "8    8  0.039347  0.399311  0.035443  0.126382  0.016309  1.031301e-01   \n",
       "9    9  0.000001  0.009088  0.000017  0.000411  0.000002  3.664846e-08   \n",
       "10  10  0.028370  0.220835  0.006857  0.177434  0.000322  1.546201e-05   \n",
       "11  11  0.000148  0.089190  0.000589  0.004239  0.000129  2.061799e-05   \n",
       "12  12  0.268999  0.014835  0.002298  0.014469  0.158554  5.278555e-01   \n",
       "13  13  0.347422  0.031384  0.045649  0.477007  0.007671  3.922669e-04   \n",
       "14  14  0.012999  0.163939  0.004606  0.024739  0.001437  2.470065e-04   \n",
       "\n",
       "      class7        class8        class9  \n",
       "0   0.446325  3.670263e-05  2.170306e-05  \n",
       "1   0.119863  9.467940e-03  8.413129e-03  \n",
       "2   0.197060  2.010060e-04  1.824740e-05  \n",
       "3   0.741636  8.015439e-04  5.205296e-04  \n",
       "4   0.605184  1.399651e-03  5.463482e-04  \n",
       "5   0.062926  8.141967e-04  4.282194e-04  \n",
       "6   0.325809  1.481733e-02  3.920225e-02  \n",
       "7   0.557053  3.360786e-03  4.838307e-03  \n",
       "8   0.237415  1.014708e-02  3.251526e-02  \n",
       "9   0.990481  5.659768e-09  1.695536e-07  \n",
       "10  0.566139  2.352693e-05  3.848358e-06  \n",
       "11  0.905665  2.686630e-06  1.619567e-05  \n",
       "12  0.005230  3.568982e-03  4.190431e-03  \n",
       "13  0.089001  1.401423e-03  7.326111e-05  \n",
       "14  0.791834  9.863949e-05  1.005825e-04  "
      ]
     },
     "execution_count": 18,
     "metadata": {},
     "output_type": "execute_result"
    }
   ],
   "source": [
    "cl = np.zeros_like(classes)\n",
    "for i in range(len(classes)):\n",
    "    cl[i, classes[i].argmax()] = 1\n",
    "cols=['class1', 'class2', 'class3', 'class4', 'class5', 'class6', 'class7', 'class8', 'class9']\n",
    "dfsub = pd.DataFrame(classes, columns=cols)\n",
    "dfsub.insert(0,'ID',range(len(dfsub.class1)))\n",
    "dfsub.head(15)"
   ]
  },
  {
   "cell_type": "code",
   "execution_count": 19,
   "metadata": {
    "collapsed": true
   },
   "outputs": [],
   "source": [
    "dfsub.to_csv('embtry.csv',index=False)"
   ]
  },
  {
   "cell_type": "markdown",
   "metadata": {
    "collapsed": true
   },
   "source": [
    "loss: 0.4064 - acc: 0.8420 - val_loss: 1.7337 - val_acc: 0.4685\n",
    "score was 1.04\n",
    "\n"
   ]
  }
 ],
 "metadata": {
  "kernelspec": {
   "display_name": "Python 3",
   "language": "python",
   "name": "python3"
  },
  "language_info": {
   "codemirror_mode": {
    "name": "ipython",
    "version": 3
   },
   "file_extension": ".py",
   "mimetype": "text/x-python",
   "name": "python",
   "nbconvert_exporter": "python",
   "pygments_lexer": "ipython3",
   "version": "3.6.1"
  }
 },
 "nbformat": 4,
 "nbformat_minor": 2
}
