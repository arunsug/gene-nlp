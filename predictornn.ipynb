{
 "cells": [
  {
   "cell_type": "code",
   "execution_count": 20,
   "metadata": {},
   "outputs": [],
   "source": [
    "import pandas as pd\n",
    "import numpy as np\n",
    "import matplotlib.pyplot as plt\n",
    "import nltk\n",
    "import keras\n",
    "from nltk.corpus import stopwords\n",
    "from keras.models import Sequential\n",
    "from keras.layers import Dense, Dropout, BatchNormalization\n",
    "from keras.optimizers import Adam, Nadam\n",
    "from keras.preprocessing import text\n",
    "from sklearn.feature_extraction.text import CountVectorizer, TfidfTransformer"
   ]
  },
  {
   "cell_type": "code",
   "execution_count": 2,
   "metadata": {},
   "outputs": [
    {
     "name": "stderr",
     "output_type": "stream",
     "text": [
      "/home/arun/Programs/anaconda3/lib/python3.6/site-packages/ipykernel_launcher.py:2: ParserWarning: Falling back to the 'python' engine because the 'c' engine does not support regex separators (separators > 1 char and different from '\\s+' are interpreted as regex); you can avoid this warning by specifying engine='python'.\n",
      "  \n",
      "/home/arun/Programs/anaconda3/lib/python3.6/site-packages/ipykernel_launcher.py:6: ParserWarning: Falling back to the 'python' engine because the 'c' engine does not support regex separators (separators > 1 char and different from '\\s+' are interpreted as regex); you can avoid this warning by specifying engine='python'.\n",
      "  \n"
     ]
    }
   ],
   "source": [
    "trainvar = pd.read_csv('training_variants')\n",
    "traintex = pd.read_csv('training_text', sep='\\|\\|', header=None, names=['ID','Text'], skiprows=[0])\n",
    "train = pd.merge(trainvar, traintex, on='ID')\n",
    "\n",
    "testvar = pd.read_csv('test_variants')\n",
    "testtex = pd.read_csv('test_text', sep='\\|\\|', header=None, names=['ID','Text'], skiprows=[0])\n",
    "test = pd.merge(testvar, testtex, on='ID')"
   ]
  },
  {
   "cell_type": "code",
   "execution_count": 3,
   "metadata": {
    "collapsed": true
   },
   "outputs": [],
   "source": [
    "train.Text = train.Gene+' '+train.Variation+' '+train.Text\n",
    "test.Text = test.Gene+' '+test.Variation+' '+test.Text"
   ]
  },
  {
   "cell_type": "code",
   "execution_count": 5,
   "metadata": {},
   "outputs": [
    {
     "data": {
      "text/plain": [
       "(3321, 10000)"
      ]
     },
     "execution_count": 5,
     "metadata": {},
     "output_type": "execute_result"
    }
   ],
   "source": [
    "y = keras.utils.to_categorical(train['Class']-1, num_classes=9)\n",
    "max_length=10000\n",
    "s_words = ['well','determine']\n",
    "vector = CountVectorizer(ngram_range=(3,3),stop_words=stopwords.words('english').append(s_words), min_df=5, max_features=max_length)\n",
    "X = vector.fit_transform(train.Text,train.Class-1)\n",
    "tran = TfidfTransformer()\n",
    "X = tran.fit_transform(X,train.Class-1)\n",
    "X.shape"
   ]
  },
  {
   "cell_type": "code",
   "execution_count": 35,
   "metadata": {
    "collapsed": true
   },
   "outputs": [],
   "source": [
    "model = Sequential()\n",
    "model.add(Dense(512, activation='relu', input_dim=max_length))\n",
    "model.add(Dropout(0.2))\n",
    "model.add(Dense(256, activation='relu'))\n",
    "model.add(Dropout(0.2))\n",
    "model.add(Dense(128, activation='relu'))\n",
    "model.add(Dropout(0.2))\n",
    "model.add(Dense(64, activation='relu'))\n",
    "model.add(Dropout(0.2))\n",
    "model.add(Dense(units=9, activation='softmax'))"
   ]
  },
  {
   "cell_type": "code",
   "execution_count": 36,
   "metadata": {
    "collapsed": true
   },
   "outputs": [],
   "source": [
    "model.compile(loss='categorical_crossentropy',\n",
    "              optimizer=Nadam(),\n",
    "              metrics=['accuracy'])"
   ]
  },
  {
   "cell_type": "code",
   "execution_count": 40,
   "metadata": {},
   "outputs": [
    {
     "name": "stdout",
     "output_type": "stream",
     "text": [
      "Train on 2988 samples, validate on 333 samples\n",
      "Epoch 1/1\n",
      "2988/2988 [==============================] - 3s - loss: 0.6483 - acc: 0.7674 - val_loss: 1.8314 - val_acc: 0.4955\n"
     ]
    },
    {
     "data": {
      "text/plain": [
       "<keras.callbacks.History at 0x7f7215dc04e0>"
      ]
     },
     "execution_count": 40,
     "metadata": {},
     "output_type": "execute_result"
    }
   ],
   "source": [
    "model.fit(X.toarray(), y, batch_size=64, epochs=1, verbose=1, validation_split=.1)"
   ]
  },
  {
   "cell_type": "code",
   "execution_count": 24,
   "metadata": {},
   "outputs": [],
   "source": [
    "x = vector.transform(test.Text)\n",
    "x = tran.transform(x)"
   ]
  },
  {
   "cell_type": "code",
   "execution_count": 25,
   "metadata": {},
   "outputs": [
    {
     "data": {
      "text/html": [
       "<div>\n",
       "<style>\n",
       "    .dataframe thead tr:only-child th {\n",
       "        text-align: right;\n",
       "    }\n",
       "\n",
       "    .dataframe thead th {\n",
       "        text-align: left;\n",
       "    }\n",
       "\n",
       "    .dataframe tbody tr th {\n",
       "        vertical-align: top;\n",
       "    }\n",
       "</style>\n",
       "<table border=\"1\" class=\"dataframe\">\n",
       "  <thead>\n",
       "    <tr style=\"text-align: right;\">\n",
       "      <th></th>\n",
       "      <th>ID</th>\n",
       "      <th>class1</th>\n",
       "      <th>class2</th>\n",
       "      <th>class3</th>\n",
       "      <th>class4</th>\n",
       "      <th>class5</th>\n",
       "      <th>class6</th>\n",
       "      <th>class7</th>\n",
       "      <th>class8</th>\n",
       "      <th>class9</th>\n",
       "    </tr>\n",
       "  </thead>\n",
       "  <tbody>\n",
       "    <tr>\n",
       "      <th>0</th>\n",
       "      <td>0</td>\n",
       "      <td>0.001379</td>\n",
       "      <td>0.242371</td>\n",
       "      <td>0.000870</td>\n",
       "      <td>0.000676</td>\n",
       "      <td>0.006268</td>\n",
       "      <td>0.001089</td>\n",
       "      <td>0.747008</td>\n",
       "      <td>0.000084</td>\n",
       "      <td>0.000256</td>\n",
       "    </tr>\n",
       "    <tr>\n",
       "      <th>1</th>\n",
       "      <td>1</td>\n",
       "      <td>0.359615</td>\n",
       "      <td>0.027254</td>\n",
       "      <td>0.030136</td>\n",
       "      <td>0.465490</td>\n",
       "      <td>0.043340</td>\n",
       "      <td>0.032542</td>\n",
       "      <td>0.029773</td>\n",
       "      <td>0.006848</td>\n",
       "      <td>0.005003</td>\n",
       "    </tr>\n",
       "    <tr>\n",
       "      <th>2</th>\n",
       "      <td>2</td>\n",
       "      <td>0.098255</td>\n",
       "      <td>0.273219</td>\n",
       "      <td>0.041841</td>\n",
       "      <td>0.059645</td>\n",
       "      <td>0.072775</td>\n",
       "      <td>0.040148</td>\n",
       "      <td>0.383010</td>\n",
       "      <td>0.010817</td>\n",
       "      <td>0.020291</td>\n",
       "    </tr>\n",
       "    <tr>\n",
       "      <th>3</th>\n",
       "      <td>3</td>\n",
       "      <td>0.011393</td>\n",
       "      <td>0.297010</td>\n",
       "      <td>0.006627</td>\n",
       "      <td>0.006135</td>\n",
       "      <td>0.034052</td>\n",
       "      <td>0.011163</td>\n",
       "      <td>0.629005</td>\n",
       "      <td>0.001499</td>\n",
       "      <td>0.003116</td>\n",
       "    </tr>\n",
       "    <tr>\n",
       "      <th>4</th>\n",
       "      <td>4</td>\n",
       "      <td>0.262215</td>\n",
       "      <td>0.010692</td>\n",
       "      <td>0.013184</td>\n",
       "      <td>0.669156</td>\n",
       "      <td>0.017245</td>\n",
       "      <td>0.012230</td>\n",
       "      <td>0.012484</td>\n",
       "      <td>0.001790</td>\n",
       "      <td>0.001005</td>\n",
       "    </tr>\n",
       "  </tbody>\n",
       "</table>\n",
       "</div>"
      ],
      "text/plain": [
       "   ID    class1    class2    class3    class4    class5    class6    class7  \\\n",
       "0   0  0.001379  0.242371  0.000870  0.000676  0.006268  0.001089  0.747008   \n",
       "1   1  0.359615  0.027254  0.030136  0.465490  0.043340  0.032542  0.029773   \n",
       "2   2  0.098255  0.273219  0.041841  0.059645  0.072775  0.040148  0.383010   \n",
       "3   3  0.011393  0.297010  0.006627  0.006135  0.034052  0.011163  0.629005   \n",
       "4   4  0.262215  0.010692  0.013184  0.669156  0.017245  0.012230  0.012484   \n",
       "\n",
       "     class8    class9  \n",
       "0  0.000084  0.000256  \n",
       "1  0.006848  0.005003  \n",
       "2  0.010817  0.020291  \n",
       "3  0.001499  0.003116  \n",
       "4  0.001790  0.001005  "
      ]
     },
     "execution_count": 25,
     "metadata": {},
     "output_type": "execute_result"
    }
   ],
   "source": [
    "classes = model.predict(x.toarray())\n",
    "cols=['class1', 'class2', 'class3', 'class4', 'class5', 'class6', 'class7', 'class8', 'class9']\n",
    "dfsub = pd.DataFrame(classes, columns=cols)\n",
    "dfsub.insert(0,'ID',range(len(dfsub.class1)))\n",
    "dfsub.head()"
   ]
  },
  {
   "cell_type": "code",
   "execution_count": 26,
   "metadata": {
    "collapsed": true
   },
   "outputs": [],
   "source": [
    "dfsub.to_csv('sknn.csv',index=False)"
   ]
  },
  {
   "cell_type": "markdown",
   "metadata": {
    "collapsed": true
   },
   "source": [
    "loss: 0.4416 - acc: 0.8098 - val_loss: 1.5989 - val_acc: 0.4431\n",
    "submission with this accuracy scored: 1.00164\n",
    "\n",
    "loss: 0.4624 - acc: 0.8112 - val_loss: 1.2091 - val_acc: 0.6426\n",
    "submission with this accuracy scored: 0.78966\n",
    "\n",
    "loss: 1.5341 - acc: 0.4414 - val_loss: 1.3903 - val_acc: 0.5105\n",
    "submission with this accuracy scored .88833 after 1 epoch of training"
   ]
  }
 ],
 "metadata": {
  "kernelspec": {
   "display_name": "Python 3",
   "language": "python",
   "name": "python3"
  },
  "language_info": {
   "codemirror_mode": {
    "name": "ipython",
    "version": 3
   },
   "file_extension": ".py",
   "mimetype": "text/x-python",
   "name": "python",
   "nbconvert_exporter": "python",
   "pygments_lexer": "ipython3",
   "version": "3.6.1"
  }
 },
 "nbformat": 4,
 "nbformat_minor": 2
}
